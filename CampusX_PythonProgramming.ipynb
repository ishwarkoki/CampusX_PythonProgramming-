{
  "nbformat": 4,
  "nbformat_minor": 0,
  "metadata": {
    "colab": {
      "name": "CampusX_PythonProgramming.ipynb",
      "provenance": [],
      "authorship_tag": "ABX9TyMhBackOd571oCqUA7OUD77",
      "include_colab_link": true
    },
    "kernelspec": {
      "name": "python3",
      "display_name": "Python 3"
    },
    "language_info": {
      "name": "python"
    }
  },
  "cells": [
    {
      "cell_type": "markdown",
      "metadata": {
        "id": "view-in-github",
        "colab_type": "text"
      },
      "source": [
        "<a href=\"https://colab.research.google.com/github/ishwarkoki/CampusX_PythonProgramming-/blob/main/CampusX_PythonProgramming.ipynb\" target=\"_parent\"><img src=\"https://colab.research.google.com/assets/colab-badge.svg\" alt=\"Open In Colab\"/></a>"
      ]
    },
    {
      "cell_type": "markdown",
      "source": [
        "## Campus X Python Programming Questions \n",
        " "
      ],
      "metadata": {
        "id": "NRP_Bl2OHe4g"
      }
    },
    {
      "cell_type": "code",
      "execution_count": null,
      "metadata": {
        "colab": {
          "base_uri": "https://localhost:8080/"
        },
        "id": "kBCb6qe_EYRY",
        "outputId": "8863cbd7-f345-4ee5-a61d-470043cec3c8"
      },
      "outputs": [
        {
          "output_type": "stream",
          "name": "stdout",
          "text": [
            " Age1 ->18\n",
            " Age2 ->28\n",
            " Age3 ->30\n",
            "30 is Oldest\n"
          ]
        }
      ],
      "source": [
        "# 1. User will input (3ages).Find the oldest one \n",
        "\n",
        "age1=int(input(\" Age1 ->\"))\n",
        "age2=int(input(\" Age2 ->\"))\n",
        "age3=int(input(\" Age3 ->\"))\n",
        "\n",
        "if age1>age2 and age1>age3: \n",
        "    print(f\"{age1} is Oldest\")\n",
        "elif age2>age1 and age2>age3:\n",
        "    print(f\"{age2} is Oldest\")\n",
        "else: \n",
        "    print(f\"{age3} is Oldest\")\n"
      ]
    },
    {
      "cell_type": "code",
      "source": [
        "# 2. Write a program that will convert celsius value to fahrenheit \n",
        "\n",
        "celsius=float(input(\"Enter the Temperature in °C ->\"))\n",
        "\n",
        "fahrenheit=(celsius*9/5) + 32\n",
        "print(f\" Temperature in fahrenheit is {fahrenheit}F\") "
      ],
      "metadata": {
        "colab": {
          "base_uri": "https://localhost:8080/"
        },
        "id": "-_DeF-VFGTid",
        "outputId": "6025c3e5-07a5-41ed-c669-8aed6c388d56"
      },
      "execution_count": null,
      "outputs": [
        {
          "output_type": "stream",
          "name": "stdout",
          "text": [
            "Enter the Temperature in °C ->100\n",
            " Temperature in fahrenheit is 212.0F\n"
          ]
        }
      ]
    },
    {
      "cell_type": "code",
      "source": [
        "# 3. User will input (2numbers).Write a program to swap the numbers\n",
        "\n",
        "num1=int(input(\" Enter the first Number ->\"))\n",
        "num2=int(input(\" Enter the second Number ->\")) \n",
        "\n",
        "num1,num2 = num2,num1 # This is a Pythonic way of swapping.\n",
        "\n",
        "print(f\"first Number -> {num1} and Second Number -> {num2}\")"
      ],
      "metadata": {
        "colab": {
          "base_uri": "https://localhost:8080/"
        },
        "id": "npWXvoW4HdBc",
        "outputId": "82f202e8-b3de-4993-fb63-b1980c29bb9e"
      },
      "execution_count": null,
      "outputs": [
        {
          "output_type": "stream",
          "name": "stdout",
          "text": [
            " Enter the first Number ->100\n",
            " Enter the second Number ->200\n",
            "first Number -> 200 and Second Number -> 100\n"
          ]
        }
      ]
    },
    {
      "cell_type": "code",
      "source": [
        "# 4. Write a program that will give you the sum of 3 digits \n",
        "\n",
        "sum=0\n",
        "num1=int(input(\"number 1 ->\"))\n",
        "num2=int(input(\"number 2 ->\"))\n",
        "num3=int(input(\"number 3 ->\"))\n",
        "\n",
        "sum =num1+num2+num3 \n",
        "print(f\"Sum of 3 Digits is {sum}\")\n",
        "    \n"
      ],
      "metadata": {
        "colab": {
          "base_uri": "https://localhost:8080/"
        },
        "id": "JdlBfUTHItVB",
        "outputId": "d50effbe-b497-4ab6-878f-3cc5bc9615a7"
      },
      "execution_count": null,
      "outputs": [
        {
          "output_type": "stream",
          "name": "stdout",
          "text": [
            "number 1 ->29\n",
            "number 2 ->30\n",
            "number 3 ->31\n",
            "Sum of 3 Digits is 90\n"
          ]
        }
      ]
    },
    {
      "cell_type": "code",
      "source": [
        "# 5. Write a program that will reverse a four digit number.Also it checks whether the reverse is true.\n",
        "\n",
        "num=int(input(\"Enter the Number ->\"))\n",
        "reverse=0\n",
        "while num !=0:\n",
        "    digit=num%10\n",
        "    reverse=reverse*10+digit\n",
        "    num=num//10\n",
        "\n",
        "print(f\"Reversed Number -> {reverse}\")\n"
      ],
      "metadata": {
        "colab": {
          "base_uri": "https://localhost:8080/"
        },
        "id": "zCfn3iKyJgi5",
        "outputId": "f654d139-0a28-44e3-f9d8-1751157438ff"
      },
      "execution_count": null,
      "outputs": [
        {
          "output_type": "stream",
          "name": "stdout",
          "text": [
            "Enter the Number ->235678\n",
            "Reversed Number -> 876532\n"
          ]
        }
      ]
    },
    {
      "cell_type": "code",
      "source": [
        "# 6. Write a program that will tell whether the number entered by the user is odd or even \n",
        "\n",
        "num=int(input(\"Enter the Number ->\"))\n",
        "\n",
        "if num%2==0:\n",
        "    print(f\"{num} is even\")\n",
        "else:\n",
        "    print(f\"{num} is odd \")"
      ],
      "metadata": {
        "colab": {
          "base_uri": "https://localhost:8080/"
        },
        "id": "0MRmQVe5POxy",
        "outputId": "af243c05-baba-4279-9daf-a11ccb27d107"
      },
      "execution_count": null,
      "outputs": [
        {
          "output_type": "stream",
          "name": "stdout",
          "text": [
            "Enter the Number ->245\n",
            "245 is odd \n"
          ]
        }
      ]
    },
    {
      "cell_type": "code",
      "source": [
        "# 7. Write a program that will tell whether the given year is a leap year or not.\n",
        "# Article - https://en.wikipedia.org/wiki/Leap_year#Algorithm \n",
        "\n",
        "year =int(input(\"Enter the year ->\")) \n",
        "if year%4 !=0:\n",
        "    print(f\"{year} is not a Leap year\")\n",
        "else: \n",
        "    if year%400==0:\n",
        "        print(f\"{year} is a Leap year\")\n",
        "    elif year%100==0:\n",
        "        print(f\"{year} is not a Leap year\")\n",
        " "
      ],
      "metadata": {
        "colab": {
          "base_uri": "https://localhost:8080/"
        },
        "id": "kEMhqb6AP5PJ",
        "outputId": "fd5e1e27-b378-4480-8444-f73295926729"
      },
      "execution_count": null,
      "outputs": [
        {
          "name": "stdout",
          "output_type": "stream",
          "text": [
            "Enter the year ->2000\n"
          ]
        }
      ]
    },
    {
      "cell_type": "code",
      "source": [
        "# 8. Write a program to find the euclidean distance between two coordinates. \n",
        "import math \n",
        "x_axis1=int(input(\"x_axis1\"))\n",
        "y_axis1=int(input(\"y_axis2\"))\n",
        "x_axis2=int(input(\"x_axis1\"))\n",
        "y_axis2=int(input(\"y_axis2\"))\n",
        "\n",
        "distance= math.sqrt((x_axis2-x_axis1)*(x_axis2-x_axis1) + (y_axis2-y_axis1)*(y_axis2-y_axis1))\n",
        "print(f\"Distance between the points -> {distance}\")"
      ],
      "metadata": {
        "colab": {
          "base_uri": "https://localhost:8080/"
        },
        "id": "0LJUQuegUzgD",
        "outputId": "ce52087b-a341-4c1d-dae3-5bd31e208237"
      },
      "execution_count": null,
      "outputs": [
        {
          "output_type": "stream",
          "name": "stdout",
          "text": [
            "x_axis12\n",
            "y_axis22\n",
            "x_axis13\n",
            "y_axis23\n",
            "Distance between the points -> 1.4142135623730951\n"
          ]
        }
      ]
    },
    {
      "cell_type": "code",
      "source": [
        "# 9. Write a program that will take a user input of three angles and will find out whether it can form a triangle or not. \n",
        "\n",
        "angle1=int(input(\"Angle 1 -\")) \n",
        "angle2=int(input(\"Angle 1 -\"))\n",
        "angle3=int(input(\"Angle 1 -\"))\n",
        "sum_of_angles=angle1+angle2+angle3\n",
        "if sum_of_angles==180:\n",
        "    print(\"The Angles can form a Triangle\")\n",
        "else:\n",
        "    print(\"The Angles can not form a Triangle\")\n",
        "\n",
        "\n"
      ],
      "metadata": {
        "colab": {
          "base_uri": "https://localhost:8080/"
        },
        "id": "_G0E5B_PWxE1",
        "outputId": "b1371c7b-be2d-4dd0-c26b-695e5c0dd9ed"
      },
      "execution_count": null,
      "outputs": [
        {
          "output_type": "stream",
          "name": "stdout",
          "text": [
            "Angle 1 -60\n",
            "Angle 1 -70\n",
            "Angle 1 -60\n",
            "The Angles can not form a Triangle\n"
          ]
        }
      ]
    },
    {
      "cell_type": "code",
      "source": [
        "# 10. Write a program that will take user input of cost price and selling price and determines whether its a loss or a profit\n",
        "\n",
        "cp=int(input(\" cost Price ->\"))\n",
        "sp=int(input(\" Selling Price ->\")) \n",
        "\n",
        "if sp-cp>0:\n",
        "    print(\"Profit\")\n",
        "else:\n",
        "    print(\"Loss\")\n"
      ],
      "metadata": {
        "colab": {
          "base_uri": "https://localhost:8080/"
        },
        "id": "TKglz7DRXwdy",
        "outputId": "55bb64ce-050d-4466-f84a-7edeb3e3ad92"
      },
      "execution_count": null,
      "outputs": [
        {
          "output_type": "stream",
          "name": "stdout",
          "text": [
            " cost Price ->190\n",
            " Selling Price ->200\n",
            "Profit\n"
          ]
        }
      ]
    },
    {
      "cell_type": "code",
      "source": [
        "# 11. Write a program to find the simple interest when the value of principle,rate of interest and time period is given \n",
        "p=int(input(\"Enter the Principal ->\"))\n",
        "roi=float(input(\"Enter the rate of interest ->\"))\n",
        "time=float(input(\"Enter the time(Years) ->\")) \n",
        "\n",
        "si=(p*roi*time)/100 \n",
        "print(f\"Simple interest -> {si}\")"
      ],
      "metadata": {
        "colab": {
          "base_uri": "https://localhost:8080/"
        },
        "id": "Ey29z0sMYSQZ",
        "outputId": "df1720ef-0a89-4ba2-9582-aa284bf75ee4"
      },
      "execution_count": null,
      "outputs": [
        {
          "output_type": "stream",
          "name": "stdout",
          "text": [
            "Enter the Principal ->1000\n",
            "Enter the rate of interest ->10\n",
            "Enter the time(Years) ->1\n",
            "Simple interest -> 100.0\n"
          ]
        }
      ]
    },
    {
      "cell_type": "code",
      "source": [
        "# 12. Write a program to find the volume of the cylinder. Also find the cost when,\n",
        "#     when the cost of 1litre milk is 40Rs\n",
        "\n"
      ],
      "metadata": {
        "id": "xN8XxzoNZM_P"
      },
      "execution_count": null,
      "outputs": []
    },
    {
      "cell_type": "code",
      "source": [
        "# 13. Write a program that will tell whether the given number is divisible by 3 & 6 \n",
        "\n",
        "num =int(input(\"Enter the number -> \")) \n",
        "\n",
        "if num%3==0 and num%6==0:\n",
        "    print(f\"{num} is divisible by both 3 and 6 \")\n",
        "else:\n",
        "    print(f\"{num} is not divisible by 3 and 6 \")"
      ],
      "metadata": {
        "colab": {
          "base_uri": "https://localhost:8080/"
        },
        "id": "wNjuJp7VZkcd",
        "outputId": "83203da8-fda3-4a7a-e299-3628aeee308b"
      },
      "execution_count": null,
      "outputs": [
        {
          "output_type": "stream",
          "name": "stdout",
          "text": [
            "Enter the number -> 36\n",
            "36 is divisible by 3 and 6 \n"
          ]
        }
      ]
    },
    {
      "cell_type": "code",
      "source": [
        "'''\n",
        "14. Write a program that will determine weather when the value of temperature and humidity is provided by the user.\n",
        "TEMPERATURE(C)                      HUMIDITY(%)             WEATHER\n",
        "\n",
        "      >= 30                             >=90                Hot and Humid\n",
        "      >= 30                             < 90                Hot\n",
        "      <30                               >= 90               Cool and Humid\n",
        "      <30                                <90                Cool\n",
        "''' \n",
        "\n",
        "temp=int(input(\"Enter the temperature ->\"))\n",
        "humid=int(input(\"Enter the humidity ->\"))\n",
        "\n",
        "if temp>=30 and humid >=90:\n",
        "    print(\"Hot and Humid\")\n",
        "elif temp>=30 and humid <90:\n",
        "    print(\"Hot\")\n",
        "elif temp<30 and humid>=90:\n",
        "    print(\"Cool and Humid\")\n",
        "elif temp<30 and humid<90:\n",
        "    print(\"Cool\")\n",
        "\n"
      ],
      "metadata": {
        "colab": {
          "base_uri": "https://localhost:8080/"
        },
        "id": "PFIPiIumaX3m",
        "outputId": "94d7d286-d61c-4673-e959-6f7f563b6fb1"
      },
      "execution_count": null,
      "outputs": [
        {
          "output_type": "stream",
          "name": "stdout",
          "text": [
            "Enter the temperature ->40\n",
            "Enter the humidity ->70\n",
            "Hot\n"
          ]
        }
      ]
    },
    {
      "cell_type": "code",
      "source": [
        "# 15. Write a program that will take three digits from the user and add the square of each digit.\n",
        "\n",
        "digit1 =int(input(\"Enter digit 1 ->\"))\n",
        "digit2 =int(input(\"Enter digit 2 ->\"))\n",
        "digit3 =int(input(\"Enter digit 3 ->\"))\n",
        "\n",
        "sum=(digit1*digit1)+(digit2*digit2)+(digit3*digit3)\n",
        "print(f\"Sum of digits = {sum}\")"
      ],
      "metadata": {
        "colab": {
          "base_uri": "https://localhost:8080/"
        },
        "id": "trsiII2abkTJ",
        "outputId": "ba3c0f93-06d6-4fa9-c73b-2fd1bfd2ff40"
      },
      "execution_count": null,
      "outputs": [
        {
          "output_type": "stream",
          "name": "stdout",
          "text": [
            "Enter digit 1 ->5\n",
            "Enter digit 2 ->6\n",
            "Enter digit 3 ->7\n",
            "Sum of digits = 110\n"
          ]
        }
      ]
    },
    {
      "cell_type": "code",
      "source": [
        "# 16. Write a program that will check whether the number is armstrong number or not. \n",
        "\n",
        "num=int(input(\"Enter the number ->\"))\n",
        "temp=num\n",
        "sum=0\n",
        "while num!=0:\n",
        "    rem=num%10\n",
        "    sum+=+rem**3  # sum=sum+rem**3 \n",
        "    num=num//10\n",
        "if temp==sum:\n",
        "    print(f\"{temp} is an Armstrong Number\")\n",
        "else:\n",
        "    print(f\"{temp} is not an Armstrong Number\")"
      ],
      "metadata": {
        "colab": {
          "base_uri": "https://localhost:8080/"
        },
        "id": "UTTGnwgJcmgD",
        "outputId": "7f367fd2-458c-457d-c152-a9db08a674f8"
      },
      "execution_count": null,
      "outputs": [
        {
          "output_type": "stream",
          "name": "stdout",
          "text": [
            "Enter the number ->169\n",
            "169 is not an Armstrong Number\n"
          ]
        }
      ]
    },
    {
      "cell_type": "code",
      "source": [
        "# 17. Write a program that will take user input of (4 digits number) and check whether the number is narcissist number or not. \n",
        "# Article - https://centerofmathematics.blogspot.com/2019/11/what-are-narcissistic-numbers.html \n",
        "\n",
        "num=int(input(\"Enter a 4 digit number\"))\n",
        "temp=num\n",
        "sum=0\n",
        "while num!=0:\n",
        "    rem=num%10\n",
        "    sum+=+rem**4  # sum=sum+rem**4 \n",
        "    num=num//10\n",
        "if temp==sum:\n",
        "    print(f\"{temp} is an narcissist Number\")\n",
        "else:\n",
        "    print(f\"{temp} is not an narcissist Number\")\n",
        "\n",
        "\n",
        "\n",
        "\n"
      ],
      "metadata": {
        "colab": {
          "base_uri": "https://localhost:8080/"
        },
        "id": "II32rhz0hes7",
        "outputId": "f7128eac-ae85-450b-908f-b0a1f02e6106"
      },
      "execution_count": null,
      "outputs": [
        {
          "output_type": "stream",
          "name": "stdout",
          "text": [
            "Enter a 4 digit number1234\n",
            "1234 is not an narcissist Number\n"
          ]
        }
      ]
    },
    {
      "cell_type": "code",
      "source": [
        "# 18. Write a program that will give you the in-hand salary after deduction of HRA(10%),DA(5%),PF(3%), and tax(if salary is between 5-10 lakh–10%),(11-20lakh–20%),(20< _   – 30%)(0-1lakh print k).\n",
        "\n",
        "sal=int(input(\"Enter the Salary in lacs -> \")) \n",
        "\n",
        "hra=sal*.1 ; da=sal*.05; pf=sal*.03 \n",
        "sal -=(hra+da+pf) # sal=sal-(hra+da+pf) \n",
        "\n",
        "if sal>5 and sal<10:\n",
        "    sal1=sal*.9\n",
        "    print(f\"In hand salary is {sal1} lacs \") \n",
        "elif sal>11 and sal<20:\n",
        "    sal2=sal*.8\n",
        "    print(f\"In hand salary is {sal2} lacs \")\n",
        "elif sal>20:\n",
        "    sal3=sal*.7\n",
        "    print(f\"In hand salary is {sal3} lacs \")\n",
        "elif sal>0 and sal<5 :\n",
        "    print(f\"In hand salary is {sal}lacs \")\n",
        "\n",
        "\n"
      ],
      "metadata": {
        "colab": {
          "base_uri": "https://localhost:8080/"
        },
        "id": "3oehlaBZiarH",
        "outputId": "8404c41d-2212-4ff9-a130-0a22f274a203"
      },
      "execution_count": null,
      "outputs": [
        {
          "output_type": "stream",
          "name": "stdout",
          "text": [
            "Enter the Salary in lacs -> 27\n",
            "In hand salary is 15.498\n"
          ]
        }
      ]
    },
    {
      "cell_type": "code",
      "source": [
        "# 19. Write a menu driven program - 1.cm to ft  2.kl to miles  3.usd to inr  4.exit \n",
        "\n",
        "print(\" Enter the following numbers for conversions  -> 1.cm to ft 2. km to miles 3. usd to inr 4. exit \")\n",
        "user_input=0\n",
        "while user_input !=4:\n",
        "    user_input=int(input(\" \"))\n",
        "    if user_input==1:\n",
        "        len_cm=int(input(\"Enter the length in cm ->\")) \n",
        "        len_feet=len_cm*0.0328084 \n",
        "        print(f\"length in feet is {len_feet}\")\n",
        "\n",
        "    elif user_input==2:\n",
        "        dist_km=int(input(\"enter distace in km ->\"))\n",
        "        dist_miles=dist_km*0.621371 \n",
        "        print(f\"distance in miles is {dist_miles}\")\n",
        "        \n",
        "    elif user_input==3:\n",
        "        usd=int(input(\" Enter amount in $ ->\"))\n",
        "        inr =usd*77.77 \n",
        "        print(f\"Amount in INR is {inr}\")\n",
        "    elif user_input==4:\n",
        "        continue "
      ],
      "metadata": {
        "colab": {
          "base_uri": "https://localhost:8080/",
          "height": 253
        },
        "id": "1joH33obmCwK",
        "outputId": "0161a6ae-1130-4f90-d058-0220a37c5107"
      },
      "execution_count": null,
      "outputs": [
        {
          "output_type": "stream",
          "name": "stdout",
          "text": [
            " Enter the following numbers for conversions  -> 1.cm to ft 2. km to miles 3. usd to inr 4. exit \n"
          ]
        },
        {
          "output_type": "error",
          "ename": "TypeError",
          "evalue": "ignored",
          "traceback": [
            "\u001b[0;31m---------------------------------------------------------------------------\u001b[0m",
            "\u001b[0;31mTypeError\u001b[0m                                 Traceback (most recent call last)",
            "\u001b[0;32m<ipython-input-42-70b95483f321>\u001b[0m in \u001b[0;36m<module>\u001b[0;34m()\u001b[0m\n\u001b[1;32m      4\u001b[0m \u001b[0muser_input\u001b[0m\u001b[0;34m=\u001b[0m\u001b[0;36m0\u001b[0m\u001b[0;34m\u001b[0m\u001b[0;34m\u001b[0m\u001b[0m\n\u001b[1;32m      5\u001b[0m \u001b[0;32mwhile\u001b[0m \u001b[0muser_input\u001b[0m \u001b[0;34m!=\u001b[0m\u001b[0;36m4\u001b[0m\u001b[0;34m:\u001b[0m\u001b[0;34m\u001b[0m\u001b[0;34m\u001b[0m\u001b[0m\n\u001b[0;32m----> 6\u001b[0;31m     \u001b[0muser_input\u001b[0m\u001b[0;34m=\u001b[0m\u001b[0mint\u001b[0m\u001b[0;34m(\u001b[0m\u001b[0minput\u001b[0m\u001b[0;34m(\u001b[0m\u001b[0;34m\" \"\u001b[0m\u001b[0;34m)\u001b[0m\u001b[0;34m)\u001b[0m\u001b[0;34m\u001b[0m\u001b[0;34m\u001b[0m\u001b[0m\n\u001b[0m\u001b[1;32m      7\u001b[0m     \u001b[0;32mif\u001b[0m \u001b[0muser_input\u001b[0m\u001b[0;34m==\u001b[0m\u001b[0;36m1\u001b[0m\u001b[0;34m:\u001b[0m\u001b[0;34m\u001b[0m\u001b[0;34m\u001b[0m\u001b[0m\n\u001b[1;32m      8\u001b[0m         \u001b[0mlen_cm\u001b[0m\u001b[0;34m=\u001b[0m\u001b[0mint\u001b[0m\u001b[0;34m(\u001b[0m\u001b[0minput\u001b[0m\u001b[0;34m(\u001b[0m\u001b[0;34m\"Enter the length in cm ->\"\u001b[0m\u001b[0;34m)\u001b[0m\u001b[0;34m)\u001b[0m\u001b[0;34m\u001b[0m\u001b[0;34m\u001b[0m\u001b[0m\n",
            "\u001b[0;31mTypeError\u001b[0m: 'int' object is not callable"
          ]
        }
      ]
    },
    {
      "cell_type": "code",
      "source": [
        "# 20. Write a program that will tell the number of dogs and chicken are there when the user will provide the value of total heads and legs.\n",
        "\n",
        "heads= int(input(\"Enter the number of heads ->\"))\n",
        "legs= int(input(\"Enter the number of legs -> \")) \n",
        "\n",
        "# dogs - 4 legs, 1 head ; chicken - 2 legs, 2 heads. \n",
        "\n",
        "dogs=legs//4\n",
        "chickens=(dogs*4)//2 \n",
        "\n",
        "print(f\"Number of dogs ->{dogs}, Number of chickens -> {chickens}\")\n",
        "\n"
      ],
      "metadata": {
        "colab": {
          "base_uri": "https://localhost:8080/",
          "height": 253
        },
        "id": "qjFG-iKpqqxk",
        "outputId": "18bf1e70-fe44-4daa-adda-faac4d8e07e1"
      },
      "execution_count": null,
      "outputs": [
        {
          "output_type": "error",
          "ename": "TypeError",
          "evalue": "ignored",
          "traceback": [
            "\u001b[0;31m---------------------------------------------------------------------------\u001b[0m",
            "\u001b[0;31mTypeError\u001b[0m                                 Traceback (most recent call last)",
            "\u001b[0;32m<ipython-input-40-b0be55ef7d20>\u001b[0m in \u001b[0;36m<module>\u001b[0;34m()\u001b[0m\n\u001b[1;32m      1\u001b[0m \u001b[0;31m# 20. Write a program that will tell the number of dogs and chicken are there when the user will provide the value of total heads and legs.\u001b[0m\u001b[0;34m\u001b[0m\u001b[0;34m\u001b[0m\u001b[0;34m\u001b[0m\u001b[0m\n\u001b[1;32m      2\u001b[0m \u001b[0;34m\u001b[0m\u001b[0m\n\u001b[0;32m----> 3\u001b[0;31m \u001b[0mheads\u001b[0m\u001b[0;34m=\u001b[0m \u001b[0mint\u001b[0m\u001b[0;34m(\u001b[0m\u001b[0minput\u001b[0m\u001b[0;34m(\u001b[0m\u001b[0;34m\"Enter the number of heads ->\"\u001b[0m\u001b[0;34m)\u001b[0m\u001b[0;34m)\u001b[0m\u001b[0;34m\u001b[0m\u001b[0;34m\u001b[0m\u001b[0m\n\u001b[0m\u001b[1;32m      4\u001b[0m \u001b[0mlegs\u001b[0m\u001b[0;34m=\u001b[0m \u001b[0mint\u001b[0m\u001b[0;34m(\u001b[0m\u001b[0minput\u001b[0m\u001b[0;34m(\u001b[0m\u001b[0;34m\"Enter the number of legs -> \"\u001b[0m\u001b[0;34m)\u001b[0m\u001b[0;34m)\u001b[0m\u001b[0;34m\u001b[0m\u001b[0;34m\u001b[0m\u001b[0m\n\u001b[1;32m      5\u001b[0m \u001b[0;34m\u001b[0m\u001b[0m\n",
            "\u001b[0;31mTypeError\u001b[0m: 'int' object is not callable"
          ]
        }
      ]
    },
    {
      "cell_type": "code",
      "source": [
        "# Write a program to find the sum of first n numbers, where n will be provided by the user. Eg if the user provides n=10 the output should be 55\n",
        "\n",
        "n = int(input(\"enter the Number of terms\"))\n",
        "sum=(n*(n-1))//2 \n",
        "print(f\"Sum of first {n} natural numbers is {sum} \")"
      ],
      "metadata": {
        "colab": {
          "base_uri": "https://localhost:8080/",
          "height": 253
        },
        "id": "97rh0rJa1S9f",
        "outputId": "04c28eb7-c395-4b61-ea6c-2dbd09ae1468"
      },
      "execution_count": null,
      "outputs": [
        {
          "output_type": "error",
          "ename": "TypeError",
          "evalue": "ignored",
          "traceback": [
            "\u001b[0;31m---------------------------------------------------------------------------\u001b[0m",
            "\u001b[0;31mTypeError\u001b[0m                                 Traceback (most recent call last)",
            "\u001b[0;32m<ipython-input-41-6b25e34774d5>\u001b[0m in \u001b[0;36m<module>\u001b[0;34m()\u001b[0m\n\u001b[1;32m      1\u001b[0m \u001b[0;31m# Write a program to find the sum of first n numbers, where n will be provided by the user. Eg if the user provides n=10 the output should be 55\u001b[0m\u001b[0;34m\u001b[0m\u001b[0;34m\u001b[0m\u001b[0;34m\u001b[0m\u001b[0m\n\u001b[1;32m      2\u001b[0m \u001b[0;34m\u001b[0m\u001b[0m\n\u001b[0;32m----> 3\u001b[0;31m \u001b[0mn\u001b[0m \u001b[0;34m=\u001b[0m \u001b[0mint\u001b[0m\u001b[0;34m(\u001b[0m\u001b[0minput\u001b[0m\u001b[0;34m(\u001b[0m\u001b[0;34m\"enter the Number of terms\"\u001b[0m\u001b[0;34m)\u001b[0m\u001b[0;34m)\u001b[0m\u001b[0;34m\u001b[0m\u001b[0;34m\u001b[0m\u001b[0m\n\u001b[0m\u001b[1;32m      4\u001b[0m \u001b[0msum\u001b[0m\u001b[0;34m=\u001b[0m\u001b[0;34m(\u001b[0m\u001b[0mn\u001b[0m\u001b[0;34m*\u001b[0m\u001b[0;34m(\u001b[0m\u001b[0mn\u001b[0m\u001b[0;34m-\u001b[0m\u001b[0;36m1\u001b[0m\u001b[0;34m)\u001b[0m\u001b[0;34m)\u001b[0m\u001b[0;34m//\u001b[0m\u001b[0;36m2\u001b[0m\u001b[0;34m\u001b[0m\u001b[0;34m\u001b[0m\u001b[0m\n\u001b[1;32m      5\u001b[0m \u001b[0mprint\u001b[0m\u001b[0;34m(\u001b[0m\u001b[0;34mf\"Sum of first {n} natural numbers is {sum} \"\u001b[0m\u001b[0;34m)\u001b[0m\u001b[0;34m\u001b[0m\u001b[0;34m\u001b[0m\u001b[0m\n",
            "\u001b[0;31mTypeError\u001b[0m: 'int' object is not callable"
          ]
        }
      ]
    }
  ]
}